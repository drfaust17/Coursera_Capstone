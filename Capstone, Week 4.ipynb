{
    "cells": [
        {
            "metadata": {
                "collapsed": true
            },
            "cell_type": "markdown",
            "source": "GOAL: In TORONTO, if someone is looking to open a French Restaurant, where would you recommend that they open it?"
        },
        {
            "metadata": {},
            "cell_type": "markdown",
            "source": "Importing and installing all that can be necessary"
        },
        {
            "metadata": {},
            "cell_type": "code",
            "source": "import numpy as np \nimport pandas as pd \nimport types\nfrom botocore.client import Config\nimport ibm_boto3\nimport json # library to handle JSON files\nimport requests # library to handle requests\nfrom pandas.io.json import json_normalize # tranform JSON file into a pandas dataframe\n# Matplotlib and associated plotting modules\nimport matplotlib.cm as cm\nimport matplotlib.colors as colors\n# import k-means from clustering stage\nfrom sklearn.cluster import KMeans\nprint('Libraries imported.')",
            "execution_count": 1,
            "outputs": [
                {
                    "output_type": "stream",
                    "text": "Libraries imported.\n",
                    "name": "stdout"
                }
            ]
        },
        {
            "metadata": {},
            "cell_type": "code",
            "source": "!conda install -c conda-forge geopy --yes\nfrom geopy.geocoders import Nominatim # convert an address into latitude and longitude values\nprint('Libraries imported.')",
            "execution_count": 2,
            "outputs": [
                {
                    "output_type": "stream",
                    "text": "Solving environment: done\n\n## Package Plan ##\n\n  environment location: /opt/conda/envs/Python36\n\n  added / updated specs: \n    - geopy\n\n\nThe following packages will be downloaded:\n\n    package                    |            build\n    ---------------------------|-----------------\n    certifi-2020.4.5.1         |   py36h9f0ad1d_0         151 KB  conda-forge\n    openssl-1.1.1g             |       h516909a_0         2.1 MB  conda-forge\n    python_abi-3.6             |          1_cp36m           4 KB  conda-forge\n    ca-certificates-2020.4.5.1 |       hecc5488_0         146 KB  conda-forge\n    geographiclib-1.50         |             py_0          34 KB  conda-forge\n    geopy-1.21.0               |             py_0          58 KB  conda-forge\n    ------------------------------------------------------------\n                                           Total:         2.5 MB\n\nThe following NEW packages will be INSTALLED:\n\n    geographiclib:   1.50-py_0         conda-forge\n    geopy:           1.21.0-py_0       conda-forge\n    python_abi:      3.6-1_cp36m       conda-forge\n\nThe following packages will be UPDATED:\n\n    ca-certificates: 2020.1.1-0                    --> 2020.4.5.1-hecc5488_0     conda-forge\n    certifi:         2020.4.5.1-py36_0             --> 2020.4.5.1-py36h9f0ad1d_0 conda-forge\n    openssl:         1.1.1f-h7b6447c_0             --> 1.1.1g-h516909a_0         conda-forge\n\n\nDownloading and Extracting Packages\ncertifi-2020.4.5.1   | 151 KB    | ##################################### | 100% \nopenssl-1.1.1g       | 2.1 MB    | ##################################### | 100% \npython_abi-3.6       | 4 KB      | ##################################### | 100% \nca-certificates-2020 | 146 KB    | ##################################### | 100% \ngeographiclib-1.50   | 34 KB     | ##################################### | 100% \ngeopy-1.21.0         | 58 KB     | ##################################### | 100% \nPreparing transaction: done\nVerifying transaction: done\nExecuting transaction: done\nLibraries imported.\n",
                    "name": "stdout"
                }
            ]
        },
        {
            "metadata": {},
            "cell_type": "code",
            "source": "!conda install -c conda-forge folium=0.5.0 --yes\nimport folium # map rendering library\nprint('Libraries imported.')",
            "execution_count": 3,
            "outputs": [
                {
                    "output_type": "stream",
                    "text": "Solving environment: done\n\n## Package Plan ##\n\n  environment location: /opt/conda/envs/Python36\n\n  added / updated specs: \n    - folium=0.5.0\n\n\nThe following packages will be downloaded:\n\n    package                    |            build\n    ---------------------------|-----------------\n    altair-4.1.0               |             py_1         614 KB  conda-forge\n    branca-0.4.0               |             py_0          26 KB  conda-forge\n    folium-0.5.0               |             py_0          45 KB  conda-forge\n    vincent-0.4.4              |             py_1          28 KB  conda-forge\n    ------------------------------------------------------------\n                                           Total:         713 KB\n\nThe following NEW packages will be INSTALLED:\n\n    altair:  4.1.0-py_1 conda-forge\n    branca:  0.4.0-py_0 conda-forge\n    folium:  0.5.0-py_0 conda-forge\n    vincent: 0.4.4-py_1 conda-forge\n\n\nDownloading and Extracting Packages\naltair-4.1.0         | 614 KB    | ##################################### | 100% \nbranca-0.4.0         | 26 KB     | ##################################### | 100% \nfolium-0.5.0         | 45 KB     | ##################################### | 100% \nvincent-0.4.4        | 28 KB     | ##################################### | 100% \nPreparing transaction: done\nVerifying transaction: done\nExecuting transaction: done\nLibraries imported.\n",
                    "name": "stdout"
                }
            ]
        },
        {
            "metadata": {},
            "cell_type": "markdown",
            "source": "Preparing the Foursquare setting"
        },
        {
            "metadata": {},
            "cell_type": "code",
            "source": "#Foursquare\nCLIENT_ID = 'WS3IH3T0F5EXCVUTHBJFHJRJMJJHUV2P1WPOJPCPC4CQDOZL' # your Foursquare ID\nCLIENT_SECRET = '0ASEX1X35VF41WVO0NH1XAXPTARBPG5LPFL4DUY35HCK2VOO' # your Foursquare Secret\nVERSION = '20200422' # Foursquare API version\n\nprint('Your credentails:')\nprint('CLIENT_ID: ' + CLIENT_ID)\nprint('CLIENT_SECRET:' + CLIENT_SECRET)",
            "execution_count": 4,
            "outputs": [
                {
                    "output_type": "stream",
                    "text": "Your credentails:\nCLIENT_ID: WS3IH3T0F5EXCVUTHBJFHJRJMJJHUV2P1WPOJPCPC4CQDOZL\nCLIENT_SECRET:0ASEX1X35VF41WVO0NH1XAXPTARBPG5LPFL4DUY35HCK2VOO\n",
                    "name": "stdout"
                }
            ]
        },
        {
            "metadata": {},
            "cell_type": "markdown",
            "source": "We are setting in Toronto"
        },
        {
            "metadata": {},
            "cell_type": "code",
            "source": "address = 'Toronto, TO'\ngeolocator = Nominatim(user_agent=\"TO_explorer\")\nlocation = geolocator.geocode(address)\nlatitude = location.latitude\nlongitude = location.longitude\nprint('The geograpical coordinate of Toronto are {}, {}.'.format(latitude, longitude))",
            "execution_count": 5,
            "outputs": [
                {
                    "output_type": "stream",
                    "text": "The geograpical coordinate of Toronto are 43.6534817, -79.3839347.\n",
                    "name": "stdout"
                }
            ]
        },
        {
            "metadata": {},
            "cell_type": "markdown",
            "source": "Preparing the map of Toronto"
        },
        {
            "metadata": {},
            "cell_type": "code",
            "source": "map_toronto = folium.Map(location=[latitude, longitude], zoom_start=10)",
            "execution_count": 6,
            "outputs": []
        },
        {
            "metadata": {},
            "cell_type": "code",
            "source": "#check\n#map_toronto",
            "execution_count": null,
            "outputs": []
        },
        {
            "metadata": {},
            "cell_type": "markdown",
            "source": "Let's explore Toronto Neighborhood using Foursquare platform"
        },
        {
            "metadata": {},
            "cell_type": "code",
            "source": "LIMIT = 100 \nradius = 500 \n#create URL\nurl = 'https://api.foursquare.com/v2/venues/explore?&client_id={}&client_secret={}&v={}&ll={},{}&radius={}&limit={}'.format(\n    CLIENT_ID, \n    CLIENT_SECRET, \n    VERSION, \n    latitude, \n    longitude, \n    radius, \n    LIMIT)\nurl # display URL",
            "execution_count": 7,
            "outputs": [
                {
                    "output_type": "execute_result",
                    "execution_count": 7,
                    "data": {
                        "text/plain": "'https://api.foursquare.com/v2/venues/explore?&client_id=WS3IH3T0F5EXCVUTHBJFHJRJMJJHUV2P1WPOJPCPC4CQDOZL&client_secret=0ASEX1X35VF41WVO0NH1XAXPTARBPG5LPFL4DUY35HCK2VOO&v=20200422&ll=43.6534817,-79.3839347&radius=500&limit=100'"
                    },
                    "metadata": {}
                }
            ]
        },
        {
            "metadata": {},
            "cell_type": "code",
            "source": "results = requests.get(url).json()",
            "execution_count": 8,
            "outputs": []
        },
        {
            "metadata": {},
            "cell_type": "markdown",
            "source": "Let's divide what we found in categories"
        },
        {
            "metadata": {},
            "cell_type": "code",
            "source": "def get_category_type(row):\n    try:\n        categories_list = row['categories']\n    except:\n        categories_list = row['venue.categories']\n        \n    if len(categories_list) == 0:\n        return None\n    else:\n        return categories_list[0]['name']\n        \nvenues = results['response']['groups'][0]['items']\n    \nnearby_venues = json_normalize(venues) # flatten JSON\n\n#filter columns\nfiltered_columns = ['venue.name', 'venue.categories', 'venue.location.lat', 'venue.location.lng']\nnearby_venues =nearby_venues.loc[:, filtered_columns]\n\n#filter the category for each row\nnearby_venues['venue.categories'] = nearby_venues.apply(get_category_type, axis=1)\n\n#clean columns\nnearby_venues.columns = [col.split(\".\")[-1] for col in nearby_venues.columns]\n\nnearby_venues.head()",
            "execution_count": 9,
            "outputs": [
                {
                    "output_type": "execute_result",
                    "execution_count": 9,
                    "data": {
                        "text/plain": "                                name        categories        lat        lng\n0                   Downtown Toronto      Neighborhood  43.653232 -79.385296\n1             Nathan Phillips Square             Plaza  43.652270 -79.383516\n2  Eggspectation Bell Trinity Square    Breakfast Spot  43.653144 -79.381980\n3                            Japango  Sushi Restaurant  43.655268 -79.385165\n4                             Indigo         Bookstore  43.653515 -79.380696",
                        "text/html": "<div>\n<style scoped>\n    .dataframe tbody tr th:only-of-type {\n        vertical-align: middle;\n    }\n\n    .dataframe tbody tr th {\n        vertical-align: top;\n    }\n\n    .dataframe thead th {\n        text-align: right;\n    }\n</style>\n<table border=\"1\" class=\"dataframe\">\n  <thead>\n    <tr style=\"text-align: right;\">\n      <th></th>\n      <th>name</th>\n      <th>categories</th>\n      <th>lat</th>\n      <th>lng</th>\n    </tr>\n  </thead>\n  <tbody>\n    <tr>\n      <th>0</th>\n      <td>Downtown Toronto</td>\n      <td>Neighborhood</td>\n      <td>43.653232</td>\n      <td>-79.385296</td>\n    </tr>\n    <tr>\n      <th>1</th>\n      <td>Nathan Phillips Square</td>\n      <td>Plaza</td>\n      <td>43.652270</td>\n      <td>-79.383516</td>\n    </tr>\n    <tr>\n      <th>2</th>\n      <td>Eggspectation Bell Trinity Square</td>\n      <td>Breakfast Spot</td>\n      <td>43.653144</td>\n      <td>-79.381980</td>\n    </tr>\n    <tr>\n      <th>3</th>\n      <td>Japango</td>\n      <td>Sushi Restaurant</td>\n      <td>43.655268</td>\n      <td>-79.385165</td>\n    </tr>\n    <tr>\n      <th>4</th>\n      <td>Indigo</td>\n      <td>Bookstore</td>\n      <td>43.653515</td>\n      <td>-79.380696</td>\n    </tr>\n  </tbody>\n</table>\n</div>"
                    },
                    "metadata": {}
                }
            ]
        },
        {
            "metadata": {},
            "cell_type": "markdown",
            "source": "Now we define what are the most common categories for each Neighborhood"
        },
        {
            "metadata": {},
            "cell_type": "markdown",
            "source": "First, we prepare the Data of Toronto getting them from Wikipedia"
        },
        {
            "metadata": {},
            "cell_type": "code",
            "source": "df = pd.read_html('https://en.wikipedia.org/wiki/List_of_postal_codes_of_Canada:_M')[0]\ndf.drop(df[df['Borough']=='Not assigned'].index,inplace=True)\ndf.reindex",
            "execution_count": 11,
            "outputs": [
                {
                    "output_type": "execute_result",
                    "execution_count": 11,
                    "data": {
                        "text/plain": "<bound method DataFrame.reindex of     Postal code           Borough  \\\n2           M3A        North York   \n3           M4A        North York   \n4           M5A  Downtown Toronto   \n5           M6A        North York   \n6           M7A  Downtown Toronto   \n8           M9A         Etobicoke   \n9           M1B       Scarborough   \n11          M3B        North York   \n12          M4B         East York   \n13          M5B  Downtown Toronto   \n14          M6B        North York   \n17          M9B         Etobicoke   \n18          M1C       Scarborough   \n20          M3C        North York   \n21          M4C         East York   \n22          M5C  Downtown Toronto   \n23          M6C              York   \n26          M9C         Etobicoke   \n27          M1E       Scarborough   \n30          M4E      East Toronto   \n31          M5E  Downtown Toronto   \n32          M6E              York   \n36          M1G       Scarborough   \n39          M4G         East York   \n40          M5G  Downtown Toronto   \n41          M6G  Downtown Toronto   \n45          M1H       Scarborough   \n46          M2H        North York   \n47          M3H        North York   \n48          M4H         East York   \n..          ...               ...   \n111         M4R   Central Toronto   \n112         M5R   Central Toronto   \n113         M6R      West Toronto   \n114         M7R       Mississauga   \n116         M9R         Etobicoke   \n117         M1S       Scarborough   \n120         M4S   Central Toronto   \n121         M5S  Downtown Toronto   \n122         M6S      West Toronto   \n126         M1T       Scarborough   \n129         M4T   Central Toronto   \n130         M5T  Downtown Toronto   \n135         M1V       Scarborough   \n138         M4V   Central Toronto   \n139         M5V  Downtown Toronto   \n142         M8V         Etobicoke   \n143         M9V         Etobicoke   \n144         M1W       Scarborough   \n147         M4W  Downtown Toronto   \n148         M5W  Downtown Toronto   \n151         M8W         Etobicoke   \n152         M9W         Etobicoke   \n153         M1X       Scarborough   \n156         M4X  Downtown Toronto   \n157         M5X  Downtown Toronto   \n160         M8X         Etobicoke   \n165         M4Y  Downtown Toronto   \n168         M7Y      East Toronto   \n169         M8Y         Etobicoke   \n178         M8Z         Etobicoke   \n\n                                          Neighborhood  \n2                                            Parkwoods  \n3                                     Victoria Village  \n4                           Regent Park / Harbourfront  \n5                    Lawrence Manor / Lawrence Heights  \n6         Queen's Park / Ontario Provincial Government  \n8                                     Islington Avenue  \n9                                      Malvern / Rouge  \n11                                           Don Mills  \n12                    Parkview Hill / Woodbine Gardens  \n13                            Garden District, Ryerson  \n14                                           Glencairn  \n17   West Deane Park / Princess Gardens / Martin Gr...  \n18            Rouge Hill / Port Union / Highland Creek  \n20                                           Don Mills  \n21                                    Woodbine Heights  \n22                                      St. James Town  \n23                                  Humewood-Cedarvale  \n26   Eringate / Bloordale Gardens / Old Burnhamthor...  \n27                 Guildwood / Morningside / West Hill  \n30                                         The Beaches  \n31                                         Berczy Park  \n32                                 Caledonia-Fairbanks  \n36                                              Woburn  \n39                                             Leaside  \n40                                  Central Bay Street  \n41                                            Christie  \n45                                           Cedarbrae  \n46                                   Hillcrest Village  \n47   Bathurst Manor / Wilson Heights / Downsview North  \n48                                    Thorncliffe Park  \n..                                                 ...  \n111                                 North Toronto West  \n112              The Annex / North Midtown / Yorkville  \n113                            Parkdale / Roncesvalles  \n114              Canada Post Gateway Processing Centre  \n116  Kingsview Village / St. Phillips / Martin Grov...  \n117                                          Agincourt  \n120                                         Davisville  \n121                    University of Toronto / Harbord  \n122                                Runnymede / Swansea  \n126          Clarks Corners / Tam O'Shanter / Sullivan  \n129                       Moore Park / Summerhill East  \n130        Kensington Market / Chinatown / Grange Park  \n135  Milliken / Agincourt North / Steeles East / L'...  \n138  Summerhill West / Rathnelly / South Hill / For...  \n139  CN Tower / King and Spadina / Railway Lands / ...  \n142     New Toronto / Mimico South / Humber Bay Shores  \n143  South Steeles / Silverstone / Humbergate / Jam...  \n144                     Steeles West / L'Amoreaux West  \n147                                           Rosedale  \n148                                     Stn A PO Boxes  \n151                            Alderwood / Long Branch  \n152                                          Northwest  \n153                                        Upper Rouge  \n156                       St. James Town / Cabbagetown  \n157            First Canadian Place / Underground city  \n160    The Kingsway / Montgomery Road / Old Mill North  \n165                               Church and Wellesley  \n168              Business reply mail Processing CentrE  \n169  Old Mill South / King's Mill Park / Sunnylea /...  \n178  Mimico NW / The Queensway West / South of Bloo...  \n\n[103 rows x 3 columns]>"
                    },
                    "metadata": {}
                }
            ]
        },
        {
            "metadata": {},
            "cell_type": "code",
            "source": "def __iter__(self): return 0\n\n# @hidden_cell\n# The following code accesses a file in your IBM Cloud Object Storage. It includes your credentials.\n# You might want to remove those credentials before you share the notebook.\nclient_3b5c2bdc58c94defb31bb5be8c5e2af7 = ibm_boto3.client(service_name='s3',\n    ibm_api_key_id='huIpeVpPXm4bVzCZtfEBR68OfhcR5zhM0nI0r1THmmWy',\n    ibm_auth_endpoint=\"https://iam.ng.bluemix.net/oidc/token\",\n    config=Config(signature_version='oauth'),\n    endpoint_url='https://s3-api.us-geo.objectstorage.service.networklayer.com')\n\nbody = client_3b5c2bdc58c94defb31bb5be8c5e2af7.get_object(Bucket='ibmcourseradatasciencemodule9caps-donotdelete-pr-pfzgdxkvbxscse',Key='Geospatial_Coordinates.csv')['Body']\n# add missing __iter__ method, so pandas accepts body as file-like object\nif not hasattr(body, \"__iter__\"): body.__iter__ = types.MethodType( __iter__, body )\n\n# If you are reading an Excel file into a pandas DataFrame, replace `read_csv` by `read_excel` in the next statement.\ndf_data_0 = pd.read_csv(body)\ndf_data_0.head()",
            "execution_count": 12,
            "outputs": [
                {
                    "output_type": "execute_result",
                    "execution_count": 12,
                    "data": {
                        "text/plain": "  Postal Code   Latitude  Longitude\n0         M1B  43.806686 -79.194353\n1         M1C  43.784535 -79.160497\n2         M1E  43.763573 -79.188711\n3         M1G  43.770992 -79.216917\n4         M1H  43.773136 -79.239476",
                        "text/html": "<div>\n<style scoped>\n    .dataframe tbody tr th:only-of-type {\n        vertical-align: middle;\n    }\n\n    .dataframe tbody tr th {\n        vertical-align: top;\n    }\n\n    .dataframe thead th {\n        text-align: right;\n    }\n</style>\n<table border=\"1\" class=\"dataframe\">\n  <thead>\n    <tr style=\"text-align: right;\">\n      <th></th>\n      <th>Postal Code</th>\n      <th>Latitude</th>\n      <th>Longitude</th>\n    </tr>\n  </thead>\n  <tbody>\n    <tr>\n      <th>0</th>\n      <td>M1B</td>\n      <td>43.806686</td>\n      <td>-79.194353</td>\n    </tr>\n    <tr>\n      <th>1</th>\n      <td>M1C</td>\n      <td>43.784535</td>\n      <td>-79.160497</td>\n    </tr>\n    <tr>\n      <th>2</th>\n      <td>M1E</td>\n      <td>43.763573</td>\n      <td>-79.188711</td>\n    </tr>\n    <tr>\n      <th>3</th>\n      <td>M1G</td>\n      <td>43.770992</td>\n      <td>-79.216917</td>\n    </tr>\n    <tr>\n      <th>4</th>\n      <td>M1H</td>\n      <td>43.773136</td>\n      <td>-79.239476</td>\n    </tr>\n  </tbody>\n</table>\n</div>"
                    },
                    "metadata": {}
                }
            ]
        },
        {
            "metadata": {},
            "cell_type": "code",
            "source": "df_final = pd.merge(left=df, right=df_data_0, left_on='Postal code', right_on='Postal Code')\ndel df_final['Postal Code']\ndf_final.head()",
            "execution_count": 13,
            "outputs": [
                {
                    "output_type": "execute_result",
                    "execution_count": 13,
                    "data": {
                        "text/plain": "  Postal code           Borough                                  Neighborhood  \\\n0         M3A        North York                                     Parkwoods   \n1         M4A        North York                              Victoria Village   \n2         M5A  Downtown Toronto                    Regent Park / Harbourfront   \n3         M6A        North York             Lawrence Manor / Lawrence Heights   \n4         M7A  Downtown Toronto  Queen's Park / Ontario Provincial Government   \n\n    Latitude  Longitude  \n0  43.753259 -79.329656  \n1  43.725882 -79.315572  \n2  43.654260 -79.360636  \n3  43.718518 -79.464763  \n4  43.662301 -79.389494  ",
                        "text/html": "<div>\n<style scoped>\n    .dataframe tbody tr th:only-of-type {\n        vertical-align: middle;\n    }\n\n    .dataframe tbody tr th {\n        vertical-align: top;\n    }\n\n    .dataframe thead th {\n        text-align: right;\n    }\n</style>\n<table border=\"1\" class=\"dataframe\">\n  <thead>\n    <tr style=\"text-align: right;\">\n      <th></th>\n      <th>Postal code</th>\n      <th>Borough</th>\n      <th>Neighborhood</th>\n      <th>Latitude</th>\n      <th>Longitude</th>\n    </tr>\n  </thead>\n  <tbody>\n    <tr>\n      <th>0</th>\n      <td>M3A</td>\n      <td>North York</td>\n      <td>Parkwoods</td>\n      <td>43.753259</td>\n      <td>-79.329656</td>\n    </tr>\n    <tr>\n      <th>1</th>\n      <td>M4A</td>\n      <td>North York</td>\n      <td>Victoria Village</td>\n      <td>43.725882</td>\n      <td>-79.315572</td>\n    </tr>\n    <tr>\n      <th>2</th>\n      <td>M5A</td>\n      <td>Downtown Toronto</td>\n      <td>Regent Park / Harbourfront</td>\n      <td>43.654260</td>\n      <td>-79.360636</td>\n    </tr>\n    <tr>\n      <th>3</th>\n      <td>M6A</td>\n      <td>North York</td>\n      <td>Lawrence Manor / Lawrence Heights</td>\n      <td>43.718518</td>\n      <td>-79.464763</td>\n    </tr>\n    <tr>\n      <th>4</th>\n      <td>M7A</td>\n      <td>Downtown Toronto</td>\n      <td>Queen's Park / Ontario Provincial Government</td>\n      <td>43.662301</td>\n      <td>-79.389494</td>\n    </tr>\n  </tbody>\n</table>\n</div>"
                    },
                    "metadata": {}
                }
            ]
        },
        {
            "metadata": {},
            "cell_type": "markdown",
            "source": "Then we are ready to get nearby venues"
        },
        {
            "metadata": {},
            "cell_type": "code",
            "source": "def getNearbyVenues(names, latitudes, longitudes, radius=500):\n    \n    venues_list=[]\n    for name, lat, lng in zip(names, latitudes, longitudes):\n        print(name)\n            \n        # create the API request URL\n        url = 'https://api.foursquare.com/v2/venues/explore?&client_id={}&client_secret={}&v={}&ll={},{}&radius={}&limit={}'.format(\n            CLIENT_ID, \n            CLIENT_SECRET, \n            VERSION, \n            lat, \n            lng, \n            radius, \n            LIMIT)\n            \n        # make the GET request\n        results = requests.get(url).json()[\"response\"]['groups'][0]['items']\n        \n        # return only relevant information for each nearby venue\n        venues_list.append([(\n            name, \n            lat, \n            lng, \n            v['venue']['name'], \n            v['venue']['location']['lat'], \n            v['venue']['location']['lng'],  \n            v['venue']['categories'][0]['name']) for v in results])\n\n    nearby_venues = pd.DataFrame([item for venue_list in venues_list for item in venue_list])\n    nearby_venues.columns = ['Neighborhood', \n                  'Neighborhood Latitude', \n                  'Neighborhood Longitude', \n                  'Venue', \n                  'Venue Latitude', \n                  'Venue Longitude', \n                  'Venue Category']\n    \n    return(nearby_venues)\n    \nToronto_venues = getNearbyVenues(names=df_final['Neighborhood'],\n                                   latitudes=df_final['Latitude'],\n                                   longitudes=df_final['Longitude']\n                                  )\n                                  \nprint(Toronto_venues.shape)\nToronto_venues.head()",
            "execution_count": 14,
            "outputs": [
                {
                    "output_type": "stream",
                    "text": "Parkwoods\nVictoria Village\nRegent Park / Harbourfront\nLawrence Manor / Lawrence Heights\nQueen's Park / Ontario Provincial Government\nIslington Avenue\nMalvern / Rouge\nDon Mills\nParkview Hill / Woodbine Gardens\nGarden District, Ryerson\nGlencairn\nWest Deane Park / Princess Gardens / Martin Grove / Islington / Cloverdale\nRouge Hill / Port Union / Highland Creek\nDon Mills\nWoodbine Heights\nSt. James Town\nHumewood-Cedarvale\nEringate / Bloordale Gardens / Old Burnhamthorpe / Markland Wood\nGuildwood / Morningside / West Hill\nThe Beaches\nBerczy Park\nCaledonia-Fairbanks\nWoburn\nLeaside\nCentral Bay Street\nChristie\nCedarbrae\nHillcrest Village\nBathurst Manor / Wilson Heights / Downsview North\nThorncliffe Park\nRichmond / Adelaide / King\nDufferin / Dovercourt Village\nScarborough Village\nFairview / Henry Farm / Oriole\nNorthwood Park / York University\nEast Toronto\nHarbourfront East / Union Station / Toronto Islands\nLittle Portugal / Trinity\nKennedy Park / Ionview / East Birchmount Park\nBayview Village\nDownsview\nThe Danforth West / Riverdale\nToronto Dominion Centre / Design Exchange\nBrockton / Parkdale Village / Exhibition Place\nGolden Mile / Clairlea / Oakridge\nYork Mills / Silver Hills\nDownsview\nIndia Bazaar / The Beaches West\nCommerce Court / Victoria Hotel\nNorth Park / Maple Leaf Park / Upwood Park\nHumber Summit\nCliffside / Cliffcrest / Scarborough Village West\nWillowdale / Newtonbrook\nDownsview\nStudio District\nBedford Park / Lawrence Manor East\nDel Ray / Mount Dennis / Keelsdale and Silverthorn\nHumberlea / Emery\nBirch Cliff / Cliffside West\nWillowdale\nDownsview\nLawrence Park\nRoselawn\nRunnymede / The Junction North\nWeston\nDorset Park / Wexford Heights / Scarborough Town Centre\nYork Mills West\nDavisville North\nForest Hill North & West\nHigh Park / The Junction South\nWestmount\nWexford / Maryvale\nWillowdale\nNorth Toronto West\nThe Annex / North Midtown / Yorkville\nParkdale / Roncesvalles\nCanada Post Gateway Processing Centre\nKingsview Village / St. Phillips / Martin Grove Gardens / Richview Gardens\nAgincourt\nDavisville\nUniversity of Toronto / Harbord\nRunnymede / Swansea\nClarks Corners / Tam O'Shanter / Sullivan\nMoore Park / Summerhill East\nKensington Market / Chinatown / Grange Park\nMilliken / Agincourt North / Steeles East / L'Amoreaux East\nSummerhill West / Rathnelly / South Hill / Forest Hill SE / Deer Park\nCN Tower / King and Spadina / Railway Lands / Harbourfront West / Bathurst Quay / South Niagara / Island airport\nNew Toronto / Mimico South / Humber Bay Shores\nSouth Steeles / Silverstone / Humbergate / Jamestown / Mount Olive / Beaumond Heights / Thistletown / Albion Gardens\nSteeles West / L'Amoreaux West\nRosedale\nStn A PO Boxes\nAlderwood / Long Branch\nNorthwest\nUpper Rouge\nSt. James Town / Cabbagetown\nFirst Canadian Place / Underground city\nThe Kingsway / Montgomery Road / Old Mill North\nChurch and Wellesley\nBusiness reply mail Processing CentrE\nOld Mill South / King's Mill Park / Sunnylea / Humber Bay / Mimico NE / The Queensway East / Royal York South East / Kingsway Park South East\nMimico NW / The Queensway West / South of Bloor / Kingsway Park South West / Royal York South West\n(2130, 7)\n",
                    "name": "stdout"
                },
                {
                    "output_type": "execute_result",
                    "execution_count": 14,
                    "data": {
                        "text/plain": "       Neighborhood  Neighborhood Latitude  Neighborhood Longitude  \\\n0         Parkwoods              43.753259              -79.329656   \n1         Parkwoods              43.753259              -79.329656   \n2  Victoria Village              43.725882              -79.315572   \n3  Victoria Village              43.725882              -79.315572   \n4  Victoria Village              43.725882              -79.315572   \n\n                    Venue  Venue Latitude  Venue Longitude  \\\n0         Brookbanks Park       43.751976       -79.332140   \n1           Variety Store       43.751974       -79.333114   \n2  Victoria Village Arena       43.723481       -79.315635   \n3             Tim Hortons       43.725517       -79.313103   \n4               Portugril       43.725819       -79.312785   \n\n          Venue Category  \n0                   Park  \n1      Food & Drink Shop  \n2           Hockey Arena  \n3            Coffee Shop  \n4  Portuguese Restaurant  ",
                        "text/html": "<div>\n<style scoped>\n    .dataframe tbody tr th:only-of-type {\n        vertical-align: middle;\n    }\n\n    .dataframe tbody tr th {\n        vertical-align: top;\n    }\n\n    .dataframe thead th {\n        text-align: right;\n    }\n</style>\n<table border=\"1\" class=\"dataframe\">\n  <thead>\n    <tr style=\"text-align: right;\">\n      <th></th>\n      <th>Neighborhood</th>\n      <th>Neighborhood Latitude</th>\n      <th>Neighborhood Longitude</th>\n      <th>Venue</th>\n      <th>Venue Latitude</th>\n      <th>Venue Longitude</th>\n      <th>Venue Category</th>\n    </tr>\n  </thead>\n  <tbody>\n    <tr>\n      <th>0</th>\n      <td>Parkwoods</td>\n      <td>43.753259</td>\n      <td>-79.329656</td>\n      <td>Brookbanks Park</td>\n      <td>43.751976</td>\n      <td>-79.332140</td>\n      <td>Park</td>\n    </tr>\n    <tr>\n      <th>1</th>\n      <td>Parkwoods</td>\n      <td>43.753259</td>\n      <td>-79.329656</td>\n      <td>Variety Store</td>\n      <td>43.751974</td>\n      <td>-79.333114</td>\n      <td>Food &amp; Drink Shop</td>\n    </tr>\n    <tr>\n      <th>2</th>\n      <td>Victoria Village</td>\n      <td>43.725882</td>\n      <td>-79.315572</td>\n      <td>Victoria Village Arena</td>\n      <td>43.723481</td>\n      <td>-79.315635</td>\n      <td>Hockey Arena</td>\n    </tr>\n    <tr>\n      <th>3</th>\n      <td>Victoria Village</td>\n      <td>43.725882</td>\n      <td>-79.315572</td>\n      <td>Tim Hortons</td>\n      <td>43.725517</td>\n      <td>-79.313103</td>\n      <td>Coffee Shop</td>\n    </tr>\n    <tr>\n      <th>4</th>\n      <td>Victoria Village</td>\n      <td>43.725882</td>\n      <td>-79.315572</td>\n      <td>Portugril</td>\n      <td>43.725819</td>\n      <td>-79.312785</td>\n      <td>Portuguese Restaurant</td>\n    </tr>\n  </tbody>\n</table>\n</div>"
                    },
                    "metadata": {}
                }
            ]
        },
        {
            "metadata": {},
            "cell_type": "code",
            "source": "Toronto_onehot = pd.get_dummies(Toronto_venues[['Venue Category']], prefix=\"\", prefix_sep=\"\")\n\n# add neighborhood column back to dataframe\nToronto_onehot['Neighborhood'] = Toronto_venues['Neighborhood'] \n\n# move neighborhood column to the first column\nfixed_columns = [Toronto_onehot.columns[-1]] + list(Toronto_onehot.columns[:-1])\nToronto_onehot = Toronto_onehot[fixed_columns]\nToronto_grouped = Toronto_onehot.groupby('Neighborhood').mean().reset_index()\n#Toronto_grouped\nToronto_grouped.shape",
            "execution_count": 15,
            "outputs": [
                {
                    "output_type": "execute_result",
                    "execution_count": 15,
                    "data": {
                        "text/plain": "(96, 271)"
                    },
                    "metadata": {}
                }
            ]
        },
        {
            "metadata": {},
            "cell_type": "code",
            "source": "num_top_venues = 5\n\nfor hood in Toronto_grouped['Neighborhood']:\n    print(\"----\"+hood+\"----\")\n    temp = Toronto_grouped[Toronto_grouped['Neighborhood'] == hood].T.reset_index()\n    temp.columns = ['venue','freq']\n    temp = temp.iloc[1:]\n    temp['freq'] = temp['freq'].astype(float)\n    temp = temp.round({'freq': 2})\n    print(temp.sort_values('freq', ascending=False).reset_index(drop=True).head(num_top_venues))\n    print('\\n')",
            "execution_count": 16,
            "outputs": [
                {
                    "output_type": "stream",
                    "text": "----Agincourt----\n                       venue  freq\n0  Latin American Restaurant  0.25\n1             Breakfast Spot  0.25\n2               Skating Rink  0.25\n3                     Lounge  0.25\n4                Yoga Studio  0.00\n\n\n----Alderwood / Long Branch----\n                venue  freq\n0         Pizza Place  0.22\n1  Athletics & Sports  0.11\n2         Coffee Shop  0.11\n3                 Pub  0.11\n4      Sandwich Place  0.11\n\n\n----Bathurst Manor / Wilson Heights / Downsview North----\n            venue  freq\n0     Coffee Shop  0.10\n1            Bank  0.10\n2     Pizza Place  0.05\n3   Shopping Mall  0.05\n4  Sandwich Place  0.05\n\n\n----Bayview Village----\n                 venue  freq\n0                 Caf\u00e9  0.25\n1                 Bank  0.25\n2   Chinese Restaurant  0.25\n3  Japanese Restaurant  0.25\n4  Moroccan Restaurant  0.00\n\n\n----Bedford Park / Lawrence Manor East----\n                     venue  freq\n0              Coffee Shop  0.09\n1               Restaurant  0.09\n2           Sandwich Place  0.09\n3       Italian Restaurant  0.09\n4  Comfort Food Restaurant  0.04\n\n\n----Berczy Park----\n                venue  freq\n0         Coffee Shop  0.07\n1        Cocktail Bar  0.05\n2  Italian Restaurant  0.04\n3  Seafood Restaurant  0.04\n4         Cheese Shop  0.04\n\n\n----Birch Cliff / Cliffside West----\n                   venue  freq\n0                   Caf\u00e9  0.25\n1        College Stadium  0.25\n2           Skating Rink  0.25\n3  General Entertainment  0.25\n4     Mexican Restaurant  0.00\n\n\n----Brockton / Parkdale Village / Exhibition Place----\n                    venue  freq\n0                    Caf\u00e9  0.13\n1          Breakfast Spot  0.09\n2             Coffee Shop  0.09\n3               Nightclub  0.09\n4  Furniture / Home Store  0.04\n\n\n----Business reply mail Processing CentrE----\n                  venue  freq\n0  Gym / Fitness Center  0.06\n1         Auto Workshop  0.06\n2           Pizza Place  0.06\n3            Comic Shop  0.06\n4      Recording Studio  0.06\n\n\n----CN Tower / King and Spadina / Railway Lands / Harbourfront West / Bathurst Quay / South Niagara / Island airport----\n              venue  freq\n0    Airport Lounge  0.12\n1   Airport Service  0.12\n2  Airport Terminal  0.12\n3             Plane  0.06\n4  Sculpture Garden  0.06\n\n\n----Caledonia-Fairbanks----\n                        venue  freq\n0                        Park  0.50\n1               Women's Store  0.25\n2                        Pool  0.25\n3    Mediterranean Restaurant  0.00\n4  Modern European Restaurant  0.00\n\n\n----Canada Post Gateway Processing Centre----\n                       venue  freq\n0               Intersection  0.15\n1                Coffee Shop  0.15\n2                      Hotel  0.15\n3  Middle Eastern Restaurant  0.08\n4        Fried Chicken Joint  0.08\n\n\n----Cedarbrae----\n                  venue  freq\n0      Hakka Restaurant  0.12\n1                  Bank  0.12\n2           Gas Station  0.12\n3  Caribbean Restaurant  0.12\n4    Athletics & Sports  0.12\n\n\n----Central Bay Street----\n                 venue  freq\n0          Coffee Shop  0.20\n1   Italian Restaurant  0.06\n2                 Caf\u00e9  0.06\n3       Sandwich Place  0.05\n4  Japanese Restaurant  0.05\n\n\n----Christie----\n           venue  freq\n0  Grocery Store  0.22\n1           Caf\u00e9  0.17\n2           Park  0.11\n3    Gas Station  0.06\n4    Coffee Shop  0.06\n\n\n----Church and Wellesley----\n                 venue  freq\n0          Coffee Shop  0.07\n1     Sushi Restaurant  0.07\n2  Japanese Restaurant  0.06\n3           Restaurant  0.04\n4           Smoke Shop  0.03\n\n\n----Clarks Corners / Tam O'Shanter / Sullivan----\n           venue  freq\n0    Pizza Place  0.12\n1       Pharmacy  0.12\n2           Bank  0.06\n3    Coffee Shop  0.06\n4  Shopping Mall  0.06\n\n\n----Cliffside / Cliffcrest / Scarborough Village West----\n                 venue  freq\n0                Motel   0.5\n1  American Restaurant   0.5\n2        Luggage Store   0.0\n3               Market   0.0\n4    Martial Arts Dojo   0.0\n\n\n----Commerce Court / Victoria Hotel----\n         venue  freq\n0  Coffee Shop  0.09\n1         Caf\u00e9  0.07\n2   Restaurant  0.07\n3        Hotel  0.06\n4          Gym  0.04\n\n\n----Davisville----\n              venue  freq\n0       Pizza Place  0.09\n1      Dessert Shop  0.09\n2    Sandwich Place  0.09\n3               Gym  0.06\n4  Sushi Restaurant  0.06\n\n\n----Davisville North----\n               venue  freq\n0  Food & Drink Shop  0.14\n1               Park  0.14\n2                Gym  0.14\n3     Breakfast Spot  0.14\n4     Sandwich Place  0.14\n\n\n----Del Ray / Mount Dennis / Keelsdale and Silverthorn----\n                  venue  freq\n0        Discount Store  0.25\n1   Fried Chicken Joint  0.25\n2        Sandwich Place  0.25\n3  Fast Food Restaurant  0.25\n4    Mexican Restaurant  0.00\n\n\n----Don Mills----\n                 venue  freq\n0          Coffee Shop  0.07\n1  Japanese Restaurant  0.07\n2     Asian Restaurant  0.07\n3                  Gym  0.07\n4           Restaurant  0.07\n\n\n----Dorset Park / Wexford Heights / Scarborough Town Centre----\n                   venue  freq\n0      Indian Restaurant   0.4\n1              Pet Store   0.2\n2     Chinese Restaurant   0.2\n3  Vietnamese Restaurant   0.2\n4     Mexican Restaurant   0.0\n\n\n----Downsview----\n                  venue  freq\n0         Grocery Store  0.19\n1                  Park  0.12\n2  Gym / Fitness Center  0.06\n3                 Hotel  0.06\n4          Liquor Store  0.06\n\n\n----Dufferin / Dovercourt Village----\n                       venue  freq\n0                     Bakery  0.12\n1                   Pharmacy  0.12\n2           Recording Studio  0.06\n3  Middle Eastern Restaurant  0.06\n4                       Caf\u00e9  0.06\n\n\n----East Toronto----\n               venue  freq\n0               Park  0.33\n1  Convenience Store  0.33\n2        Coffee Shop  0.33\n3        Yoga Studio  0.00\n4        Men's Store  0.00\n\n\n----Eringate / Bloordale Gardens / Old Burnhamthorpe / Markland Wood----\n            venue  freq\n0       Pet Store  0.11\n1    Liquor Store  0.11\n2  Shopping Plaza  0.11\n3      Beer Store  0.11\n4     Coffee Shop  0.11\n\n\n----Fairview / Henry Farm / Oriole----\n                  venue  freq\n0        Clothing Store  0.12\n1           Coffee Shop  0.09\n2  Fast Food Restaurant  0.06\n3            Restaurant  0.04\n4   Japanese Restaurant  0.04\n\n\n----First Canadian Place / Underground city----\n         venue  freq\n0  Coffee Shop  0.09\n1         Caf\u00e9  0.07\n2   Restaurant  0.05\n3        Hotel  0.05\n4          Gym  0.03\n\n\n----Forest Hill North & West----\n              venue  freq\n0             Trail  0.25\n1  Sushi Restaurant  0.25\n2          Bus Line  0.25\n3     Jewelry Store  0.25\n4       Yoga Studio  0.00\n\n\n----Garden District, Ryerson----\n             venue  freq\n0   Clothing Store  0.09\n1      Coffee Shop  0.08\n2             Caf\u00e9  0.04\n3   Cosmetics Shop  0.03\n4  Bubble Tea Shop  0.03\n\n\n----Glencairn----\n                 venue  freq\n0                  Pub  0.25\n1                 Park  0.25\n2  Japanese Restaurant  0.25\n3               Bakery  0.25\n4               Market  0.00\n\n\n----Golden Mile / Clairlea / Oakridge----\n            venue  freq\n0        Bus Line  0.25\n1          Bakery  0.12\n2    Intersection  0.12\n3  Ice Cream Shop  0.12\n4     Bus Station  0.12\n\n\n----Guildwood / Morningside / West Hill----\n                venue  freq\n0  Mexican Restaurant  0.14\n1      Breakfast Spot  0.14\n2        Intersection  0.14\n3                Bank  0.14\n4      Medical Center  0.14\n\n\n----Harbourfront East / Union Station / Toronto Islands----\n                venue  freq\n0         Coffee Shop  0.12\n1            Aquarium  0.05\n2          Restaurant  0.04\n3               Hotel  0.04\n4  Italian Restaurant  0.04\n\n\n----High Park / The Junction South----\n                    venue  freq\n0      Mexican Restaurant  0.09\n1                    Caf\u00e9  0.09\n2         Thai Restaurant  0.09\n3                     Bar  0.04\n4  Furniture / Home Store  0.04\n\n\n----Hillcrest Village----\n                      venue  freq\n0  Mediterranean Restaurant   0.2\n1               Golf Course   0.2\n2                   Dog Run   0.2\n3                      Pool   0.2\n4      Fast Food Restaurant   0.2\n\n\n----Humber Summit----\n                             venue  freq\n0                     Home Service  0.33\n1                      Pizza Place  0.33\n2              Empanada Restaurant  0.33\n3                      Yoga Studio  0.00\n4  Molecular Gastronomy Restaurant  0.00\n\n\n----Humberlea / Emery----\n                venue  freq\n0        Food Service   0.5\n1      Baseball Field   0.5\n2         Yoga Studio   0.0\n3   Mobile Phone Shop   0.0\n4  Miscellaneous Shop   0.0\n\n\n----Humewood-Cedarvale----\n",
                    "name": "stdout"
                },
                {
                    "output_type": "stream",
                    "text": "          venue  freq\n0         Trail   0.2\n1         Field   0.2\n2       Dog Run   0.2\n3  Tennis Court   0.2\n4  Hockey Arena   0.2\n\n\n----India Bazaar / The Beaches West----\n                  venue  freq\n0        Sandwich Place  0.10\n1  Fast Food Restaurant  0.10\n2                  Park  0.10\n3     Fish & Chips Shop  0.05\n4    Italian Restaurant  0.05\n\n\n----Kennedy Park / Ionview / East Birchmount Park----\n                venue  freq\n0         Coffee Shop  0.17\n1       Train Station  0.17\n2  Chinese Restaurant  0.17\n3    Department Store  0.17\n4         Bus Station  0.17\n\n\n----Kensington Market / Chinatown / Grange Park----\n                   venue  freq\n0                   Caf\u00e9  0.09\n1            Coffee Shop  0.07\n2  Vietnamese Restaurant  0.05\n3     Mexican Restaurant  0.05\n4            Gaming Cafe  0.04\n\n\n----Kingsview Village / St. Phillips / Martin Grove Gardens / Richview Gardens----\n                venue  freq\n0         Pizza Place  0.25\n1      Sandwich Place  0.25\n2   Mobile Phone Shop  0.25\n3            Bus Line  0.25\n4  Mexican Restaurant  0.00\n\n\n----Lawrence Manor / Lawrence Heights----\n                    venue  freq\n0          Clothing Store  0.14\n1       Accessories Store  0.14\n2  Furniture / Home Store  0.14\n3           Women's Store  0.07\n4     Arts & Crafts Store  0.07\n\n\n----Lawrence Park----\n         venue  freq\n0         Park  0.33\n1  Swim School  0.33\n2     Bus Line  0.33\n3  Yoga Studio  0.00\n4  Men's Store  0.00\n\n\n----Leaside----\n                    venue  freq\n0     Sporting Goods Shop  0.09\n1             Coffee Shop  0.09\n2            Burger Joint  0.06\n3  Furniture / Home Store  0.06\n4                    Bank  0.06\n\n\n----Little Portugal / Trinity----\n                           venue  freq\n0                            Bar  0.10\n1                     Restaurant  0.07\n2                    Men's Store  0.05\n3          Vietnamese Restaurant  0.05\n4  Vegetarian / Vegan Restaurant  0.05\n\n\n----Malvern / Rouge----\n                             venue  freq\n0             Fast Food Restaurant   1.0\n1                      Men's Store   0.0\n2  Molecular Gastronomy Restaurant   0.0\n3       Modern European Restaurant   0.0\n4                Mobile Phone Shop   0.0\n\n\n----Milliken / Agincourt North / Steeles East / L'Amoreaux East----\n                        venue  freq\n0                        Park   0.5\n1                  Playground   0.5\n2                 Yoga Studio   0.0\n3    Mediterranean Restaurant   0.0\n4  Modern European Restaurant   0.0\n\n\n----Mimico NW / The Queensway West / South of Bloor / Kingsway Park South West / Royal York South West----\n               venue  freq\n0  Convenience Store  0.07\n1     Discount Store  0.07\n2       Burger Joint  0.07\n3      Burrito Place  0.07\n4        Social Club  0.07\n\n\n----Moore Park / Summerhill East----\n         venue  freq\n0         Park  0.25\n1   Playground  0.25\n2  Summer Camp  0.25\n3        Trail  0.25\n4  Yoga Studio  0.00\n\n\n----New Toronto / Mimico South / Humber Bay Shores----\n                venue  freq\n0                Caf\u00e9  0.15\n1         Pizza Place  0.08\n2              Bakery  0.08\n3          Restaurant  0.08\n4  Seafood Restaurant  0.08\n\n\n----North Park / Maple Leaf Park / Upwood Park----\n                        venue  freq\n0                      Bakery  0.25\n1  Construction & Landscaping  0.25\n2                        Park  0.25\n3            Basketball Court  0.25\n4          Mexican Restaurant  0.00\n\n\n----North Toronto West----\n                  venue  freq\n0        Clothing Store  0.20\n1           Coffee Shop  0.10\n2           Yoga Studio  0.05\n3                 Diner  0.05\n4  Fast Food Restaurant  0.05\n\n\n----Northwest----\n                        venue  freq\n0                   Drugstore   0.5\n1         Rental Car Location   0.5\n2                 Yoga Studio   0.0\n3  Modern European Restaurant   0.0\n4           Mobile Phone Shop   0.0\n\n\n----Northwood Park / York University----\n                  venue  freq\n0           Coffee Shop  0.17\n1  Caribbean Restaurant  0.17\n2    Falafel Restaurant  0.17\n3        Massage Studio  0.17\n4                   Bar  0.17\n\n\n----Old Mill South / King's Mill Park / Sunnylea / Humber Bay / Mimico NE / The Queensway East / Royal York South East / Kingsway Park South East----\n                             venue  freq\n0                   Baseball Field   1.0\n1                      Yoga Studio   0.0\n2               Mexican Restaurant   0.0\n3  Molecular Gastronomy Restaurant   0.0\n4       Modern European Restaurant   0.0\n\n\n----Parkdale / Roncesvalles----\n                venue  freq\n0           Gift Shop  0.15\n1         Coffee Shop  0.08\n2             Dog Run  0.08\n3  Italian Restaurant  0.08\n4      Breakfast Spot  0.08\n\n\n----Parkview Hill / Woodbine Gardens----\n                venue  freq\n0         Pizza Place  0.17\n1  Athletics & Sports  0.08\n2           Pet Store  0.08\n3                Caf\u00e9  0.08\n4            Bus Line  0.08\n\n\n----Parkwoods----\n                venue  freq\n0   Food & Drink Shop   0.5\n1                Park   0.5\n2         Yoga Studio   0.0\n3   Mobile Phone Shop   0.0\n4  Miscellaneous Shop   0.0\n\n\n----Queen's Park / Ontario Provincial Government----\n              venue  freq\n0       Coffee Shop  0.26\n1             Diner  0.05\n2  Sushi Restaurant  0.05\n3       Yoga Studio  0.03\n4          Creperie  0.03\n\n\n----Regent Park / Harbourfront----\n            venue  freq\n0     Coffee Shop  0.15\n1             Pub  0.07\n2            Park  0.07\n3          Bakery  0.07\n4  Breakfast Spot  0.04\n\n\n----Richmond / Adelaide / King----\n                 venue  freq\n0          Coffee Shop  0.09\n1                 Caf\u00e9  0.05\n2           Restaurant  0.04\n3       Clothing Store  0.03\n4  American Restaurant  0.03\n\n\n----Rosedale----\n               venue  freq\n0               Park  0.50\n1              Trail  0.25\n2         Playground  0.25\n3        Yoga Studio  0.00\n4  Mobile Phone Shop  0.00\n\n\n----Roselawn----\n                             venue  freq\n0                           Garden   0.5\n1                   Ice Cream Shop   0.5\n2                      Yoga Studio   0.0\n3               Mexican Restaurant   0.0\n4  Molecular Gastronomy Restaurant   0.0\n\n\n----Rouge Hill / Port Union / Highland Creek----\n                             venue  freq\n0                              Bar   1.0\n1                      Yoga Studio   0.0\n2               Mexican Restaurant   0.0\n3  Molecular Gastronomy Restaurant   0.0\n4       Modern European Restaurant   0.0\n\n\n----Runnymede / Swansea----\n              venue  freq\n0       Coffee Shop  0.08\n1              Caf\u00e9  0.08\n2  Sushi Restaurant  0.05\n3               Pub  0.05\n4       Pizza Place  0.05\n\n\n----Runnymede / The Junction North----\n                        venue  freq\n0               Grocery Store   0.5\n1                    Bus Line   0.5\n2                 Yoga Studio   0.0\n3                 Men's Store   0.0\n4  Modern European Restaurant   0.0\n\n\n----Scarborough Village----\n                        venue  freq\n0                  Playground   1.0\n1                 Yoga Studio   0.0\n2    Mediterranean Restaurant   0.0\n3  Modern European Restaurant   0.0\n4           Mobile Phone Shop   0.0\n\n\n----South Steeles / Silverstone / Humbergate / Jamestown / Mount Olive / Beaumond Heights / Thistletown / Albion Gardens----\n                  venue  freq\n0         Grocery Store  0.22\n1           Pizza Place  0.11\n2            Beer Store  0.11\n3  Fast Food Restaurant  0.11\n4   Fried Chicken Joint  0.11\n\n\n----St. James Town----\n                venue  freq\n0         Coffee Shop  0.06\n1                Caf\u00e9  0.06\n2               Hotel  0.04\n3  Italian Restaurant  0.04\n4        Cocktail Bar  0.04\n\n\n----St. James Town / Cabbagetown----\n                venue  freq\n0                Park  0.07\n1                Caf\u00e9  0.07\n2          Restaurant  0.07\n3         Coffee Shop  0.07\n4  Italian Restaurant  0.04\n\n\n----Steeles West / L'Amoreaux West----\n                  venue  freq\n0  Fast Food Restaurant  0.13\n1    Chinese Restaurant  0.13\n2              Pharmacy  0.07\n3           Coffee Shop  0.07\n4     Electronics Store  0.07\n\n\n----Stn A PO Boxes----\n                venue  freq\n0         Coffee Shop  0.08\n1  Italian Restaurant  0.05\n2                Caf\u00e9  0.04\n3  Seafood Restaurant  0.04\n4               Hotel  0.03\n\n\n----Studio District----\n",
                    "name": "stdout"
                },
                {
                    "output_type": "stream",
                    "text": "                 venue  freq\n0                 Caf\u00e9  0.10\n1          Coffee Shop  0.08\n2              Brewery  0.05\n3               Bakery  0.05\n4  American Restaurant  0.05\n\n\n----Summerhill West / Rathnelly / South Hill / Forest Hill SE / Deer Park----\n              venue  freq\n0       Coffee Shop  0.12\n1               Pub  0.12\n2              Bank  0.06\n3  Sushi Restaurant  0.06\n4        Restaurant  0.06\n\n\n----The Annex / North Midtown / Yorkville----\n                       venue  freq\n0             Sandwich Place  0.14\n1                       Caf\u00e9  0.14\n2                Coffee Shop  0.09\n3                   Pharmacy  0.05\n4  Middle Eastern Restaurant  0.05\n\n\n----The Beaches----\n                        venue  freq\n0                       Trail  0.25\n1           Health Food Store  0.25\n2                         Pub  0.25\n3                 Yoga Studio  0.00\n4  Modern European Restaurant  0.00\n\n\n----The Danforth West / Riverdale----\n                    venue  freq\n0        Greek Restaurant  0.19\n1      Italian Restaurant  0.07\n2             Coffee Shop  0.07\n3  Furniture / Home Store  0.05\n4               Bookstore  0.05\n\n\n----The Kingsway / Montgomery Road / Old Mill North----\n                      venue  freq\n0                      Park  0.33\n1                     River  0.33\n2                      Pool  0.33\n3               Yoga Studio  0.00\n4  Mediterranean Restaurant  0.00\n\n\n----Thorncliffe Park----\n               venue  freq\n0  Indian Restaurant  0.11\n1        Yoga Studio  0.06\n2               Bank  0.06\n3                Gym  0.06\n4      Grocery Store  0.06\n\n\n----Toronto Dominion Centre / Design Exchange----\n         venue  freq\n0  Coffee Shop  0.11\n1        Hotel  0.08\n2         Caf\u00e9  0.07\n3   Restaurant  0.04\n4  Salad Place  0.03\n\n\n----University of Toronto / Harbord----\n                 venue  freq\n0                 Caf\u00e9  0.17\n1                  Bar  0.06\n2            Bookstore  0.06\n3           Restaurant  0.06\n4  Japanese Restaurant  0.06\n\n\n----Victoria Village----\n                   venue  freq\n0            Pizza Place   0.2\n1            Coffee Shop   0.2\n2           Intersection   0.2\n3  Portuguese Restaurant   0.2\n4           Hockey Arena   0.2\n\n\n----West Deane Park / Princess Gardens / Martin Grove / Islington / Cloverdale----\n                        venue  freq\n0                 Golf Course   1.0\n1                 Yoga Studio   0.0\n2    Mediterranean Restaurant   0.0\n3  Modern European Restaurant   0.0\n4           Mobile Phone Shop   0.0\n\n\n----Westmount----\n                       venue  freq\n0                Pizza Place  0.17\n1  Middle Eastern Restaurant  0.17\n2               Intersection  0.17\n3         Chinese Restaurant  0.17\n4             Sandwich Place  0.17\n\n\n----Weston----\n                        venue  freq\n0                        Park   0.5\n1           Convenience Store   0.5\n2                 Yoga Studio   0.0\n3                 Men's Store   0.0\n4  Modern European Restaurant   0.0\n\n\n----Wexford / Maryvale----\n                       venue  freq\n0                     Bakery  0.25\n1             Breakfast Spot  0.25\n2                 Smoke Shop  0.25\n3  Middle Eastern Restaurant  0.25\n4                Yoga Studio  0.00\n\n\n----Willowdale----\n              venue  freq\n0       Coffee Shop  0.08\n1  Ramen Restaurant  0.08\n2       Pizza Place  0.08\n3  Sushi Restaurant  0.05\n4              Caf\u00e9  0.05\n\n\n----Willowdale / Newtonbrook----\n                 venue  freq\n0            Piano Bar   1.0\n1  Monument / Landmark   0.0\n2               Lounge   0.0\n3        Luggage Store   0.0\n4               Market   0.0\n\n\n----Woburn----\n                             venue  freq\n0                      Coffee Shop  0.67\n1                Korean Restaurant  0.33\n2                      Yoga Studio  0.00\n3               Mexican Restaurant  0.00\n4  Molecular Gastronomy Restaurant  0.00\n\n\n----Woodbine Heights----\n            venue  freq\n0        Pharmacy  0.12\n1            Park  0.12\n2  Cosmetics Shop  0.12\n3     Video Store  0.12\n4    Skating Rink  0.12\n\n\n----York Mills / Silver Hills----\n                             venue  freq\n0                        Cafeteria   1.0\n1                      Yoga Studio   0.0\n2               Mexican Restaurant   0.0\n3  Molecular Gastronomy Restaurant   0.0\n4       Modern European Restaurant   0.0\n\n\n----York Mills West----\n               venue  freq\n0               Park   0.4\n1               Bank   0.2\n2                Bar   0.2\n3  Convenience Store   0.2\n4        Yoga Studio   0.0\n\n\n",
                    "name": "stdout"
                }
            ]
        },
        {
            "metadata": {},
            "cell_type": "code",
            "source": "nearby_venues['categories']",
            "execution_count": 19,
            "outputs": [
                {
                    "output_type": "execute_result",
                    "execution_count": 19,
                    "data": {
                        "text/plain": "0                      Neighborhood\n1                             Plaza\n2                    Breakfast Spot\n3                  Sushi Restaurant\n4                         Bookstore\n5                    Cosmetics Shop\n6                   Bubble Tea Shop\n7                     Shopping Mall\n8                        Restaurant\n9                       Coffee Shop\n10                     Concert Hall\n11                   Cosmetics Shop\n12                       Art Museum\n13             Fast Food Restaurant\n14                   Clothing Store\n15                 Ramen Restaurant\n16    Vegetarian / Vegan Restaurant\n17                          Theater\n18                       Restaurant\n19                   Clothing Store\n20                            Hotel\n21              Japanese Restaurant\n22              American Restaurant\n23                            Plaza\n24           Furniture / Home Store\n25                          Theater\n26               Seafood Restaurant\n27               Seafood Restaurant\n28                      Coffee Shop\n29                   Clothing Store\n                  ...              \n41                      Music Venue\n42        Latin American Restaurant\n43                   General Travel\n44             Gym / Fitness Center\n45                   Ice Cream Shop\n46                            Diner\n47                       Steakhouse\n48                             Caf\u00e9\n49                   Breakfast Spot\n50        Middle Eastern Restaurant\n51                   Clothing Store\n52                        Juice Bar\n53               Mexican Restaurant\n54              American Restaurant\n55                       Shoe Store\n56             Colombian Restaurant\n57                 Video Game Store\n58                            Diner\n59                       Restaurant\n60                   Clothing Store\n61                      Coffee Shop\n62                   Clothing Store\n63                  Thai Restaurant\n64                    Movie Theater\n65            Vietnamese Restaurant\n66                      Salad Place\n67                            Hotel\n68                      Coffee Shop\n69                     Cocktail Bar\n70                      Coffee Shop\nName: categories, Length: 71, dtype: object"
                    },
                    "metadata": {}
                }
            ]
        },
        {
            "metadata": {},
            "cell_type": "code",
            "source": "We have a total of 70 categories",
            "execution_count": null,
            "outputs": []
        },
        {
            "metadata": {},
            "cell_type": "code",
            "source": "def return_most_common_venues(row, num_top_venues):\n    row_categories = row.iloc[1:]\n    row_categories_sorted = row_categories.sort_values(ascending=False)\n    \n    return row_categories_sorted.index.values[0:num_top_venues]\n\nnum_top_venues = 70\n\nindicators = ['st', 'nd', 'rd']\n\n# create columns according to number of top venues\ncolumns = ['Neighborhood']\nfor ind in np.arange(num_top_venues):\n    try:\n        columns.append('{}{} Most Common Venue'.format(ind+1, indicators[ind]))\n    except:\n        columns.append('{}th Most Common Venue'.format(ind+1))\n\n# create a new dataframe\nneighborhoods_venues_sorted = pd.DataFrame(columns=columns)\nneighborhoods_venues_sorted['Neighborhood'] = Toronto_grouped['Neighborhood']\n\nfor ind in np.arange(Toronto_grouped.shape[0]):\n    neighborhoods_venues_sorted.iloc[ind, 1:] = return_most_common_venues(Toronto_grouped.iloc[ind, :], num_top_venues)\n\nneighborhoods_venues_sorted.head()",
            "execution_count": 20,
            "outputs": [
                {
                    "output_type": "execute_result",
                    "execution_count": 20,
                    "data": {
                        "text/plain": "                                        Neighborhood  \\\n0                                          Agincourt   \n1                            Alderwood / Long Branch   \n2  Bathurst Manor / Wilson Heights / Downsview North   \n3                                    Bayview Village   \n4                 Bedford Park / Lawrence Manor East   \n\n       1st Most Common Venue 2nd Most Common Venue 3rd Most Common Venue  \\\n0  Latin American Restaurant          Skating Rink                Lounge   \n1                Pizza Place                   Gym           Coffee Shop   \n2                Coffee Shop                  Bank      Sushi Restaurant   \n3                       Bank    Chinese Restaurant   Japanese Restaurant   \n4             Sandwich Place    Italian Restaurant            Restaurant   \n\n  4th Most Common Venue 5th Most Common Venue 6th Most Common Venue  \\\n0        Breakfast Spot            Donut Shop                 Diner   \n1        Sandwich Place    Athletics & Sports                   Pub   \n2           Pizza Place           Bridal Shop        Sandwich Place   \n3                  Caf\u00e9         Women's Store      Doner Restaurant   \n4           Coffee Shop             Juice Bar           Pizza Place   \n\n  7th Most Common Venue    8th Most Common Venue 9th Most Common Venue  ...  \\\n0        Discount Store      Distribution Center               Dog Run  ...   \n1          Skating Rink                 Pharmacy      Department Store  ...   \n2                 Diner               Restaurant        Ice Cream Shop  ...   \n3                 Diner           Discount Store   Distribution Center  ...   \n4              Boutique  Comfort Food Restaurant          Liquor Store  ...   \n\n        61th Most Common Venue 62th Most Common Venue 63th Most Common Venue  \\\n0                  Flower Shop            Flea Market            Fish Market   \n1         Fast Food Restaurant                  Field    Filipino Restaurant   \n2  Eastern European Restaurant                   Food            Flower Shop   \n3            Food & Drink Shop                   Food            Flower Shop   \n4            Electronics Store      Food & Drink Shop                   Food   \n\n  64th Most Common Venue 65th Most Common Venue 66th Most Common Venue  \\\n0      Fish & Chips Shop    Filipino Restaurant                  Field   \n1            Fish Market             Food Truck            Flea Market   \n2            Flea Market            Fish Market      Fish & Chips Shop   \n3            Flea Market            Fish Market      Fish & Chips Shop   \n4            Flower Shop            Flea Market            Fish Market   \n\n  67th Most Common Venue 68th Most Common Venue   69th Most Common Venue  \\\n0   Fast Food Restaurant         Farmers Market     Colombian Restaurant   \n1            Flower Shop                   Food        Food & Drink Shop   \n2    Filipino Restaurant                  Field     Fast Food Restaurant   \n3    Filipino Restaurant                  Field  Comfort Food Restaurant   \n4      Fish & Chips Shop    Filipino Restaurant                    Field   \n\n  70th Most Common Venue  \n0     College Rec Center  \n1             Food Court  \n2         Farmers Market  \n3     College Rec Center  \n4   Fast Food Restaurant  \n\n[5 rows x 71 columns]",
                        "text/html": "<div>\n<style scoped>\n    .dataframe tbody tr th:only-of-type {\n        vertical-align: middle;\n    }\n\n    .dataframe tbody tr th {\n        vertical-align: top;\n    }\n\n    .dataframe thead th {\n        text-align: right;\n    }\n</style>\n<table border=\"1\" class=\"dataframe\">\n  <thead>\n    <tr style=\"text-align: right;\">\n      <th></th>\n      <th>Neighborhood</th>\n      <th>1st Most Common Venue</th>\n      <th>2nd Most Common Venue</th>\n      <th>3rd Most Common Venue</th>\n      <th>4th Most Common Venue</th>\n      <th>5th Most Common Venue</th>\n      <th>6th Most Common Venue</th>\n      <th>7th Most Common Venue</th>\n      <th>8th Most Common Venue</th>\n      <th>9th Most Common Venue</th>\n      <th>...</th>\n      <th>61th Most Common Venue</th>\n      <th>62th Most Common Venue</th>\n      <th>63th Most Common Venue</th>\n      <th>64th Most Common Venue</th>\n      <th>65th Most Common Venue</th>\n      <th>66th Most Common Venue</th>\n      <th>67th Most Common Venue</th>\n      <th>68th Most Common Venue</th>\n      <th>69th Most Common Venue</th>\n      <th>70th Most Common Venue</th>\n    </tr>\n  </thead>\n  <tbody>\n    <tr>\n      <th>0</th>\n      <td>Agincourt</td>\n      <td>Latin American Restaurant</td>\n      <td>Skating Rink</td>\n      <td>Lounge</td>\n      <td>Breakfast Spot</td>\n      <td>Donut Shop</td>\n      <td>Diner</td>\n      <td>Discount Store</td>\n      <td>Distribution Center</td>\n      <td>Dog Run</td>\n      <td>...</td>\n      <td>Flower Shop</td>\n      <td>Flea Market</td>\n      <td>Fish Market</td>\n      <td>Fish &amp; Chips Shop</td>\n      <td>Filipino Restaurant</td>\n      <td>Field</td>\n      <td>Fast Food Restaurant</td>\n      <td>Farmers Market</td>\n      <td>Colombian Restaurant</td>\n      <td>College Rec Center</td>\n    </tr>\n    <tr>\n      <th>1</th>\n      <td>Alderwood / Long Branch</td>\n      <td>Pizza Place</td>\n      <td>Gym</td>\n      <td>Coffee Shop</td>\n      <td>Sandwich Place</td>\n      <td>Athletics &amp; Sports</td>\n      <td>Pub</td>\n      <td>Skating Rink</td>\n      <td>Pharmacy</td>\n      <td>Department Store</td>\n      <td>...</td>\n      <td>Fast Food Restaurant</td>\n      <td>Field</td>\n      <td>Filipino Restaurant</td>\n      <td>Fish Market</td>\n      <td>Food Truck</td>\n      <td>Flea Market</td>\n      <td>Flower Shop</td>\n      <td>Food</td>\n      <td>Food &amp; Drink Shop</td>\n      <td>Food Court</td>\n    </tr>\n    <tr>\n      <th>2</th>\n      <td>Bathurst Manor / Wilson Heights / Downsview North</td>\n      <td>Coffee Shop</td>\n      <td>Bank</td>\n      <td>Sushi Restaurant</td>\n      <td>Pizza Place</td>\n      <td>Bridal Shop</td>\n      <td>Sandwich Place</td>\n      <td>Diner</td>\n      <td>Restaurant</td>\n      <td>Ice Cream Shop</td>\n      <td>...</td>\n      <td>Eastern European Restaurant</td>\n      <td>Food</td>\n      <td>Flower Shop</td>\n      <td>Flea Market</td>\n      <td>Fish Market</td>\n      <td>Fish &amp; Chips Shop</td>\n      <td>Filipino Restaurant</td>\n      <td>Field</td>\n      <td>Fast Food Restaurant</td>\n      <td>Farmers Market</td>\n    </tr>\n    <tr>\n      <th>3</th>\n      <td>Bayview Village</td>\n      <td>Bank</td>\n      <td>Chinese Restaurant</td>\n      <td>Japanese Restaurant</td>\n      <td>Caf\u00e9</td>\n      <td>Women's Store</td>\n      <td>Doner Restaurant</td>\n      <td>Diner</td>\n      <td>Discount Store</td>\n      <td>Distribution Center</td>\n      <td>...</td>\n      <td>Food &amp; Drink Shop</td>\n      <td>Food</td>\n      <td>Flower Shop</td>\n      <td>Flea Market</td>\n      <td>Fish Market</td>\n      <td>Fish &amp; Chips Shop</td>\n      <td>Filipino Restaurant</td>\n      <td>Field</td>\n      <td>Comfort Food Restaurant</td>\n      <td>College Rec Center</td>\n    </tr>\n    <tr>\n      <th>4</th>\n      <td>Bedford Park / Lawrence Manor East</td>\n      <td>Sandwich Place</td>\n      <td>Italian Restaurant</td>\n      <td>Restaurant</td>\n      <td>Coffee Shop</td>\n      <td>Juice Bar</td>\n      <td>Pizza Place</td>\n      <td>Boutique</td>\n      <td>Comfort Food Restaurant</td>\n      <td>Liquor Store</td>\n      <td>...</td>\n      <td>Electronics Store</td>\n      <td>Food &amp; Drink Shop</td>\n      <td>Food</td>\n      <td>Flower Shop</td>\n      <td>Flea Market</td>\n      <td>Fish Market</td>\n      <td>Fish &amp; Chips Shop</td>\n      <td>Filipino Restaurant</td>\n      <td>Field</td>\n      <td>Fast Food Restaurant</td>\n    </tr>\n  </tbody>\n</table>\n<p>5 rows \u00d7 71 columns</p>\n</div>"
                    },
                    "metadata": {}
                }
            ]
        },
        {
            "metadata": {},
            "cell_type": "markdown",
            "source": "Analyze the results"
        },
        {
            "metadata": {},
            "cell_type": "code",
            "source": "neighborhoods_venues_sorted.shape",
            "execution_count": 30,
            "outputs": [
                {
                    "output_type": "execute_result",
                    "execution_count": 30,
                    "data": {
                        "text/plain": "(96, 71)"
                    },
                    "metadata": {}
                }
            ]
        },
        {
            "metadata": {},
            "cell_type": "code",
            "source": "df70 = neighborhoods_venues_sorted['70th Most Common Venue'].str.find('French Restaurant')\ndf70.sum()",
            "execution_count": 37,
            "outputs": [
                {
                    "output_type": "execute_result",
                    "execution_count": 37,
                    "data": {
                        "text/plain": "-95"
                    },
                    "metadata": {}
                }
            ]
        },
        {
            "metadata": {},
            "cell_type": "markdown",
            "source": "There is a single Neighborhood row that as least common venue has a French Restaurant"
        },
        {
            "metadata": {},
            "cell_type": "code",
            "source": "DF_OK = neighborhoods_venues_sorted.loc[neighborhoods_venues_sorted['70th Most Common Venue'] =='French Restaurant']",
            "execution_count": 46,
            "outputs": []
        },
        {
            "metadata": {},
            "cell_type": "code",
            "source": "DF_OK['Neighborhood']",
            "execution_count": 47,
            "outputs": [
                {
                    "output_type": "execute_result",
                    "execution_count": 47,
                    "data": {
                        "text/plain": "80    The Danforth West / Riverdale\nName: Neighborhood, dtype: object"
                    },
                    "metadata": {}
                }
            ]
        },
        {
            "metadata": {},
            "cell_type": "markdown",
            "source": "# The two best places in Toronto are Danforth West or Riverdale"
        },
        {
            "metadata": {},
            "cell_type": "code",
            "source": "",
            "execution_count": null,
            "outputs": []
        }
    ],
    "metadata": {
        "kernelspec": {
            "name": "python3",
            "display_name": "Python 3.6",
            "language": "python"
        },
        "language_info": {
            "name": "python",
            "version": "3.6.9",
            "mimetype": "text/x-python",
            "codemirror_mode": {
                "name": "ipython",
                "version": 3
            },
            "pygments_lexer": "ipython3",
            "nbconvert_exporter": "python",
            "file_extension": ".py"
        }
    },
    "nbformat": 4,
    "nbformat_minor": 1
}