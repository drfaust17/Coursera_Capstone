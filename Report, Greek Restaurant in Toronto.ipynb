{
    "cells": [
        {
            "metadata": {
                "collapsed": true
            },
            "cell_type": "markdown",
            "source": "#                                                                A Greek Restaurant in Toronto\n\n## Introduction: The buisness problem and the stakeholders\n\nIn this report I try to find the best area in Toronto that is the most suitable for the opening of a new Greek Restaurant. This information can be important both for who is interested in opening such an activity, like for example buisnessman, restaurateurs or restaurant chains owners, and for who is living and attending such an area, like (renters, citiziens, house owners. \n\nWhen trying to determine the best location to open a Greek Restaurant in Toronto, there are a number of factors to consider:\n\n- The most significant area to locate the Restaurant\n- Existing Greek Restaurant, or where it is less common to find it\n\n## Data used to solve the problem and the source of the data.\n\nFirst, I took the data of all the Borough and Neighborhood of Toronto from Wikipedia https://en.wikipedia.org/wiki/List_of_postal_codes_of_Canada\nThen I cross this data with the ones coming from Foursquare API to determine existing Greek Restaurant, by using its \"explore\" functionality.\n\nThen I used k-means clustering in order to group areas of Toronto into areas that are similar to each other. This will help determine suitable locations when combined with the Greek Restaurant density data, because it gaves me an idea to where a Greek Restaurant can be really appreciated.\nI list all the 70 types of venues and find that the Greek Restaurant is least frequent venue for some specific Neighborhoods. Those can be the best place for a new Greek Restaurant!\n\n## Methodology section\n\nThe methodology I applied consisted mainly in three important steps:\n- The first is the gathering and clearing of the significant data\n- The second is the data filtering, with the use of the machine learning K-means algorithm. \n  Through this step I was able to subdivide the Neighborhood of Toronto to find the most significant one, where to create our objective activity.\n- In the third one, I took action and find the best result on the restrictive area that the previous steps gave to me.\n\nFor the first step I used all the utilities from python pandas, numpy and folium libraries, that gave me the possibility to create also\nthe map of Toronto where the data will be easily visualized. In fact, by using the Foursquare API I managed to take the data of the venues of all the Neighborhood and map them directly on the map, visualizing the results.\n\nFor the second step I use pandas k-means algorithm that gave me the possibility to divide the whole data in clusters, finding the best neighborhood where to apply\nmy research for the best place to create in a Greek Restaurant.\n\nIn the last step, by enumering the least common venue in all the neighborhood I found the area where are less Greek Restaurant within the most significant cluster,\nthat is my final suggestion for this kind of activity.\n\n## Results section\n\nThe k-means algorithm gave me five cluster of Neighborhood subdivided in this way:\n7 - 86 - 7 - 1 - 3.\nI choose the second cluster because it is the most significant one and contains other Greek Restaurant. \nIt means that all the neighborhoods in that cluster are similar one to each other, and I expect similar preferences from the local people.\nIn this way, by looking at the area where the Greek Restaurant are less common, I can find the zone that is more suitable to open such an activity.\n\nIn the second cluster I found that the Neighborhoods where a Greek Resturant is the least common venue are the following:\nVictoria Village or North Park , Maple Leaf Park , Upwood Park.\n\n## Observations \n\nThe subdivision in cluster is unbalanced.\nThe second cluster is more popouated then the others.\nThis information gave me the idea that the population of this area has very common preferences and tastes. That can be a good information since other\nGreek Restaurant are already existing in the area.\n\nThere are only 3 Neighborhood with Greek Restaurant in the last spot as most common venue, in all the Toronto area. For this reason I think that can be an optimal idea to open such an activity in this city! For sure a Greek Restaurant in the Neighborhood where it is very rare can be an ideal place to go eating for all the citiziens and people living there!\n\n## Conclusion\nMy research pointed out that the best Neighborhoods to create a new Greek Resturant in are the following:\nVictoria Village or North Park , Maple Leaf Park , Upwood Park.\nThey are the place with less concetration of Greek Restaurant and are collocated in the most significant cluster of Neighborhood where others Greek Restaurant already exist, and so they can be appreciated from the local people.\n"
        },
        {
            "metadata": {},
            "cell_type": "markdown",
            "source": ""
        }
    ],
    "metadata": {
        "kernelspec": {
            "name": "python3",
            "display_name": "Python 3.6",
            "language": "python"
        },
        "language_info": {
            "name": "python",
            "version": "3.6.9",
            "mimetype": "text/x-python",
            "codemirror_mode": {
                "name": "ipython",
                "version": 3
            },
            "pygments_lexer": "ipython3",
            "nbconvert_exporter": "python",
            "file_extension": ".py"
        }
    },
    "nbformat": 4,
    "nbformat_minor": 1
}